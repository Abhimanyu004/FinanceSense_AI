{
 "cells": [
  {
   "cell_type": "code",
   "execution_count": 46,
   "metadata": {},
   "outputs": [],
   "source": [
    "import pickle\n",
    "# import streamlit as st\n",
    "\n",
    "from langchain.text_splitter import RecursiveCharacterTextSplitter\n",
    "from langchain.document_loaders import UnstructuredURLLoader\n",
    "from langchain.embeddings import GooglePalmEmbeddings\n",
    "from langchain.vectorstores import FAISS"
   ]
  },
  {
   "cell_type": "code",
   "execution_count": 47,
   "metadata": {},
   "outputs": [],
   "source": [
    "loader = UnstructuredURLLoader(urls=[\"https://www.moneycontrol.com/news/business/markets/gold-climbs-as-cooling-us-inflation-bolsters-fed-rate-cut-bets-12723150.html\"])\n",
    "    # main_placeholder.text(\"Data Loading Started . . .\")\n",
    "data = loader.load()"
   ]
  },
  {
   "cell_type": "code",
   "execution_count": 48,
   "metadata": {},
   "outputs": [],
   "source": [
    "text_splitter = RecursiveCharacterTextSplitter(\n",
    "        separators=['\\n\\n', '\\n','.',','],\n",
    "        chunk_size = 1000\n",
    "    )\n",
    "docs = text_splitter.split_documents(data)"
   ]
  },
  {
   "cell_type": "code",
   "execution_count": 49,
   "metadata": {},
   "outputs": [
    {
     "name": "stdout",
     "output_type": "stream",
     "text": [
      "16\n"
     ]
    }
   ],
   "source": [
    "import pprint\n",
    "print(len(docs))"
   ]
  },
  {
   "cell_type": "code",
   "execution_count": 52,
   "metadata": {},
   "outputs": [],
   "source": [
    "embeddings = GooglePalmEmbeddings()\n",
    "vectorstore_genai = FAISS.from_documents(docs, embeddings) "
   ]
  },
  {
   "cell_type": "code",
   "execution_count": 53,
   "metadata": {},
   "outputs": [
    {
     "name": "stdout",
     "output_type": "stream",
     "text": [
      "16\n"
     ]
    }
   ],
   "source": [
    "print(vectorstore_genai.index.ntotal)"
   ]
  },
  {
   "cell_type": "code",
   "execution_count": 54,
   "metadata": {},
   "outputs": [],
   "source": [
    "query = 'what is the price of silver per ounce?'\n",
    "docs = vectorstore_genai.similarity_search(query)"
   ]
  },
  {
   "cell_type": "code",
   "execution_count": 55,
   "metadata": {},
   "outputs": [
    {
     "name": "stdout",
     "output_type": "stream",
     "text": [
      "Spot gold was 0.5% higher at $2,369.49 per ounce by 1449 GMT. U.S. gold futures for June delivery rose 0.6% to $2,374.60 per ounce.\n",
      "\n",
      "Story continues below Advertisement\n",
      "\n",
      "Remove Ad\n",
      "\n",
      "The consumer price index data \"could be an early indication that over time inflation will cool and the Fed will make its first interest rate cut,\" said Phillip Streible, chief market strategist at Blue Line Futures.\n",
      "\n",
      "U.S. CPI rose 0.3% last month after advancing 0.4% in March and February, suggesting that inflation resumed its downward trend at the start of the second quarter in a boost to financial market expectations for a September interest rate cut.\n",
      "\n",
      "Economists polled by Reuters had forecast the CPI rising 0.4% on the month and advancing 3.4% year-on-year.\n",
      "\n",
      "Related stories\n",
      "\n",
      "Gold prices steady as focus turns to US Fed minutes\n",
      "\n",
      "This gold rally is made in China\n",
      "\n",
      "World Street | Gold hits record high, Crypto rally, Jamie Dimon's succession plans and more\n"
     ]
    }
   ],
   "source": [
    "print(docs[1].page_content)"
   ]
  },
  {
   "cell_type": "code",
   "execution_count": 56,
   "metadata": {},
   "outputs": [],
   "source": [
    "vectorstore_genai.save_local('faiss_index')"
   ]
  },
  {
   "cell_type": "code",
   "execution_count": 68,
   "metadata": {},
   "outputs": [
    {
     "name": "stdout",
     "output_type": "stream",
     "text": [
      "**Pros of Python**\n",
      "\n",
      "* **Easy to learn:** Python is a very easy language to learn, even for beginners. The syntax is simple and straightforward, and there are a lot of resources available to help you get started.\n",
      "* **Versatile:** Python can be used for a wide variety of tasks, including web development, data science, and machine learning. It's also a good language for beginners to learn because it can be used for so many different things.\n",
      "* **Highly extensible:** Python is a very extensible language, which means that you can add new features and functionality to it very easily. This makes it a good choice for projects that require a lot of customization.\n",
      "* **Active community:** Python has a large and active community of developers, which means that there is a lot of support available if you run into any problems. There are also a lot of resources available, such as books, tutorials, and online forums.\n",
      "\n",
      "**Cons of Python**\n",
      "\n",
      "* **Slow:** Python is not as fast as some other programming languages, such as C++ or Java. This can be a problem for applications that require a lot of processing power.\n",
      "* **Not as safe as some other languages:** Python is not as safe as some other languages, such as Java or C#. This is because it has a lot of features that can be exploited by attackers.\n",
      "* **Not as memory efficient as some other languages:** Python is not as memory efficient as some other languages, such as C++ or Java. This can be a problem for applications that need to use a lot of memory.\n",
      "\n",
      "Overall, Python is a very good programming language for beginners and experienced developers alike. It is easy to learn, versatile, and extensible. However, it is not as fast, safe, or memory efficient as some other languages.\n"
     ]
    }
   ],
   "source": [
    "from dotenv import load_dotenv\n",
    "load_dotenv()\n",
    "from langchain_google_genai import GoogleGenerativeAI\n",
    "llm = GoogleGenerativeAI(model=\"models/text-bison-001\", google_api_key=do)\n",
    "print(\n",
    "    llm.invoke(\n",
    "        \"What are some of the pros and cons of Python as a programming language?\"\n",
    "    )\n",
    ")"
   ]
  },
  {
   "cell_type": "code",
   "execution_count": 60,
   "metadata": {},
   "outputs": [],
   "source": [
    "new_faiss_index = FAISS.load_local('faiss_index', embeddings, allow_dangerous_deserialization=True)\n"
   ]
  },
  {
   "cell_type": "code",
   "execution_count": 64,
   "metadata": {},
   "outputs": [
    {
     "name": "stdout",
     "output_type": "stream",
     "text": [
      "[Document(page_content=\"Story continues below Advertisement\\n\\nRemove Ad\\n\\nSpot silver rose 1.2% to $28.93 per ounce, palladium gained 1.2% to $989.45 and platinum climbed 1.7% to $1,048.40, hitting a near one-year high.\\n\\nReuters\\n\\nTags:\\n\\n#Gold\\n\\n#US gold futures\\n\\n#US inflation data\\n\\nfirst published: May 15, 2024 09:18 pm\\n\\nDiscover the latest business news, Sensex, and Nifty updates. Obtain Personal Finance insights, tax queries, and expert opinions on Moneycontrol or download the Moneycontrol App to stay updated!\\n\\nAdvertisement\\n\\nRemove Ad\\n\\nTrending news\\n\\n'Europe, I don’t want to marry your men': This investor missed a flight, spent Rs 4 lakh waiting for Schengen visa\\n\\nCyclone Remal to reach Bengal today: How cyclonic storms get their names\\n\\n'I'm not a typo campaign': People with autocorrected names approach tech companies to fix 'bias'\\n\\n'Smoothest, safest and cleanest': Irish travellers share video on Delhi Metro, quash misconceptions\\n\\nGoogle marks 2024 IPL's grand finale with quirky doodle\\n\\nAdvisory Alert:\", metadata={'source': 'https://www.moneycontrol.com/news/business/markets/gold-climbs-as-cooling-us-inflation-bolsters-fed-rate-cut-bets-12723150.html'}), Document(page_content='Spot gold was 0.5% higher at $2,369.49 per ounce by 1449 GMT. U.S. gold futures for June delivery rose 0.6% to $2,374.60 per ounce.\\n\\nStory continues below Advertisement\\n\\nRemove Ad\\n\\nThe consumer price index data \"could be an early indication that over time inflation will cool and the Fed will make its first interest rate cut,\" said Phillip Streible, chief market strategist at Blue Line Futures.\\n\\nU.S. CPI rose 0.3% last month after advancing 0.4% in March and February, suggesting that inflation resumed its downward trend at the start of the second quarter in a boost to financial market expectations for a September interest rate cut.\\n\\nEconomists polled by Reuters had forecast the CPI rising 0.4% on the month and advancing 3.4% year-on-year.\\n\\nRelated stories\\n\\nGold prices steady as focus turns to US Fed minutes\\n\\nThis gold rally is made in China\\n\\nWorld Street | Gold hits record high, Crypto rally, Jamie Dimon\\'s succession plans and more', metadata={'source': 'https://www.moneycontrol.com/news/business/markets/gold-climbs-as-cooling-us-inflation-bolsters-fed-rate-cut-bets-12723150.html'}), Document(page_content='\\nElections 2024MarketsHOMEINDIAN INDICESSTOCK ACTIONAll StatsTop GainersTop LosersOnly BuyersOnly Sellers52 Week High52 Week LowPrice ShockersVolume ShockersMost Active StocksGLOBAL MARKETSUS MARKETSBIG SHARK PORTFOLIOSSTOCK SCANNERECONOMIC INDICATORSECONOMIC CALENDARMARKET ACTIONDashboardF&OFII & DII ActivityCorporate ActionEARNINGSCOMMODITYPRE MARKETRESEARCHAdviceBroker ResearchTechnicalsCURRENCYCRYPTOCURRENCYBONDSTECHNICAL TRENDSIPOWEBINARINTERVIEW SERIESOTHERSCryptocurrency NewsToolsNewsLATEST NEWSBudget 2024Elections 2024IPL 2024BUSINESSEconomyCompaniesMutual FundsPersonal FinanceIPOStartupsReal EstateSMENATION & WORLDIndiaWorldPoliticsMARKETSStocksTechnical AnalysisEquity ResearchCommodityCurrencyGold RateSilver RateAQISPECIALTrendsLatest NewsOpinionExplainersMC BuzzMC FeaturesMC LearnTECHNOLOGYPersonal TechAutoFintechMEDIAPodcastPhotosInfographicsVideosWeb StoriesCRYPTOCURRENCYOTHERSEntertainmentSportsLifestyleHealth and FitnessEducationJobsScienceAstroTravelIPL 2024TechPortfolioWatchlistCommoditiesMutual FundsEXPLOREHomeFind FundTop Ranked FundsPerformance TrackerSIP Performance TrackerETF PerformanceNFOTop Performing CategoriesLearnTOOLSReturns CalculatorLumpsum SIP BalancerDelay Cost CalculatorSIP ReturnMF FORUMTRACKYour MF InvestmentMF PricesMC 30Personal FinanceEXPLOREHomeInvestingInsuranceBankingFinancial PlanningPropertyToolsVideoAsk ExpertExplainerIncome Tax Filing GuideNPSFIXED DEPOSITFixed Deposit ComparisonFixed Deposit Interest CalculatorCorporate DepositsTAXIncome tax Filing GuideIncome Tax CalculatorEmergency Fund CalculatorLOANS & CREDIT CARDSHomeLoansCar Loan CalculatorHome Loan CalculatorEducation Loan CalculatorCredit Card Debit Payoff CalculatorTOOLSProvident Fund CalculatorAssets Allocation PlanningDebt Reduction PlannerDebt Evaluation CalculatorCurrent Expense CalculatorFREE CREDIT SCORE₹100 Cash RewardREAL ESTATE : TRENDS & ANALYTICSMC 30MONEYCONTROL - SECURENOW HEALTH INSURANCE RATINGSGOLD PRICE TODAYUpcoming Chat | Previous TranscriptsAll Schedule | Previous TranscriptForumEXPLORE FORUMHomepageMembership RulesForum TopicsAsk the ExpertTop BoardersUSER PROFILEFORUM TOPICSLatest ThreadsStocksIndexGoldPersonal FinanceJust PostedMF FORUMPOLLSLatest PollsHistorical PollsMarket SentimentsSUPPORTFAQsCode of ConductFeedbackWrite to usVideosVIDEOSHomepageVideos on DemandMarkets with Santo & CJMorning TradeCommodities chat with Manisha GuptaLet`s Talk JobsThe TenantDrive ReportBajar GupshupBits To BillionsPODCASTHomepagePodcast on DemandThe Week on Dalal StreetMarket MinutesMC Special PodcastSimply SavePolicy TalksLIVE TVHindiGujaratiInvest NowExpert Trading GuidancePowered By Trading Advisories', metadata={'source': 'https://www.moneycontrol.com/news/business/markets/gold-climbs-as-cooling-us-inflation-bolsters-fed-rate-cut-bets-12723150.html'}), Document(page_content='Go Ad-Free\\n\\nBusiness\\n\\nMarkets\\n\\nStocks\\n\\nEconomy\\n\\nCompanies\\n\\nTrends\\n\\nIPO\\n\\nOpinion\\n\\nEV Special\\n\\nHome\\n\\nNews\\n\\nBusiness\\n\\nMarkets\\n\\nGold climbs as cooling US inflation bolsters Fed rate cut bets\\n\\nSpot gold was 0.5% higher at $2,369.49 per ounce by 1449 GMT. U.S. gold futures for June delivery rose 0.6% to $2,374.60 per ounce\\n\\nReuters\\n\\nMay 15, 2024 / 09:18 PM IST\\n\\n\\n\\n\\n\\n\\n\\n\\n\\n\\n\\n\\n\\nSpot gold was 0.5% higher at $2,369.49 per ounce by 1449 GMT. U.S. gold futures for June delivery rose 0.6% to $2,374.60 per ounce\\n\\nGold hit a more than three-week high on Wednesday, aided by a weaker dollar and lower Treasury yields after data showed U.S. consumer prices rose less than expected in April, boosting chances of the Federal Reserve cutting interest rates.\\n\\nSpot gold was 0.5% higher at $2,369.49 per ounce by 1449 GMT. U.S. gold futures for June delivery rose 0.6% to $2,374.60 per ounce.\\n\\nStory continues below Advertisement\\n\\nRemove Ad', metadata={'source': 'https://www.moneycontrol.com/news/business/markets/gold-climbs-as-cooling-us-inflation-bolsters-fed-rate-cut-bets-12723150.html'})]\n"
     ]
    }
   ],
   "source": [
    "query = 'what is the price of silver per ounce?'\n",
    "docs = new_faiss_index.similarity_search(query)\n",
    "print(docs)"
   ]
  },
  {
   "cell_type": "code",
   "execution_count": 84,
   "metadata": {},
   "outputs": [],
   "source": [
    "from langchain.chains import RetrievalQA\n",
    "# from langchain_community.chat_models import google_palm\n",
    "\n",
    "# palm_client = google_palm.ChatGooglePalm(google_api_key=\"YOUR_GOOGLE_PALM_API_KEY\")\n",
    "\n",
    "qa = RetrievalQA.from_chain_type(\n",
    "    llm=llm,\n",
    "    chain_type=\"stuff\",\n",
    "    retriever=new_faiss_index.as_retriever(search_kwargs={\"k\": 100}),\n",
    ")"
   ]
  },
  {
   "cell_type": "code",
   "execution_count": 85,
   "metadata": {},
   "outputs": [
    {
     "name": "stdout",
     "output_type": "stream",
     "text": [
      "{'query': 'what is the price of silver per ounce?', 'result': 'The current price of silver is $28.93 per ounce.'}\n"
     ]
    }
   ],
   "source": [
    "print(qa.invoke(query))"
   ]
  }
 ],
 "metadata": {
  "kernelspec": {
   "display_name": "env",
   "language": "python",
   "name": "python3"
  },
  "language_info": {
   "codemirror_mode": {
    "name": "ipython",
    "version": 3
   },
   "file_extension": ".py",
   "mimetype": "text/x-python",
   "name": "python",
   "nbconvert_exporter": "python",
   "pygments_lexer": "ipython3",
   "version": "3.10.7"
  }
 },
 "nbformat": 4,
 "nbformat_minor": 2
}
